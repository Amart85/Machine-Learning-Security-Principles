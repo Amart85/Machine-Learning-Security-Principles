{
 "cells": [
  {
   "cell_type": "markdown",
   "id": "c7a6748b",
   "metadata": {},
   "source": [
    "# Building a fraud detection example"
   ]
  },
  {
   "cell_type": "markdown",
   "id": "fc982d79",
   "metadata": {},
   "source": [
    "## Setting the example up\n",
    "The dataset used in this example appears on __[Kaggle](https://www.kaggle.com/datasets/mlg-ulb/creditcardfraud?resource=download)__. The data is in a 69 MB `.zip` file. Download the file manually and unzip it into the source code directory. Note that you must obtain a __[Kaggle subscription](https://www.kaggle.com/subscribe)__ if you don’t already have one to download this dataset. The example assumes that `creditcard.csv` appears in the same directory as the downloadable source."
   ]
  },
  {
   "cell_type": "code",
   "execution_count": 1,
   "id": "82544656",
   "metadata": {},
   "outputs": [],
   "source": [
    "import pandas as pd\n",
    "from sklearn.preprocessing import MinMaxScaler"
   ]
  },
  {
   "cell_type": "code",
   "execution_count": 2,
   "id": "9bcde047",
   "metadata": {},
   "outputs": [],
   "source": [
    "cardData=pd.read_csv(\"creditcard.csv\")"
   ]
  },
  {
   "cell_type": "code",
   "execution_count": 3,
   "id": "9e7fa965",
   "metadata": {},
   "outputs": [
    {
     "name": "stdout",
     "output_type": "stream",
     "text": [
      "Total Number Transactions: 284807\n",
      "Normal Transactions: 284315\n",
      "Fraudulent Transactions: 492\n",
      "Fraudulent Transactions Percent: 0.17%\n"
     ]
    }
   ],
   "source": [
    "total_transactions = len(cardData)\n",
    "normal = len(cardData[cardData.Class == 0])\n",
    "fraudulent = len(cardData[cardData.Class == 1])\n",
    "fraud_percentage = fraudulent/normal\n",
    "print(f'Total Number Transactions: {total_transactions}')\n",
    "print(f'Normal Transactions: {normal}')\n",
    "print(f'Fraudulent Transactions: {fraudulent}')\n",
    "print(f'Fraudulent Transactions Percent: ' \\\n",
    "      f'{fraud_percentage:.2%}')"
   ]
  },
  {
   "cell_type": "code",
   "execution_count": 4,
   "id": "31e58f7e",
   "metadata": {},
   "outputs": [
    {
     "name": "stdout",
     "output_type": "stream",
     "text": [
      "<class 'pandas.core.frame.DataFrame'>\n",
      "RangeIndex: 284807 entries, 0 to 284806\n",
      "Data columns (total 31 columns):\n",
      " #   Column  Non-Null Count   Dtype  \n",
      "---  ------  --------------   -----  \n",
      " 0   Time    284807 non-null  float64\n",
      " 1   V1      284807 non-null  float64\n",
      " 2   V2      284807 non-null  float64\n",
      " 3   V3      284807 non-null  float64\n",
      " 4   V4      284807 non-null  float64\n",
      " 5   V5      284807 non-null  float64\n",
      " 6   V6      284807 non-null  float64\n",
      " 7   V7      284807 non-null  float64\n",
      " 8   V8      284807 non-null  float64\n",
      " 9   V9      284807 non-null  float64\n",
      " 10  V10     284807 non-null  float64\n",
      " 11  V11     284807 non-null  float64\n",
      " 12  V12     284807 non-null  float64\n",
      " 13  V13     284807 non-null  float64\n",
      " 14  V14     284807 non-null  float64\n",
      " 15  V15     284807 non-null  float64\n",
      " 16  V16     284807 non-null  float64\n",
      " 17  V17     284807 non-null  float64\n",
      " 18  V18     284807 non-null  float64\n",
      " 19  V19     284807 non-null  float64\n",
      " 20  V20     284807 non-null  float64\n",
      " 21  V21     284807 non-null  float64\n",
      " 22  V22     284807 non-null  float64\n",
      " 23  V23     284807 non-null  float64\n",
      " 24  V24     284807 non-null  float64\n",
      " 25  V25     284807 non-null  float64\n",
      " 26  V26     284807 non-null  float64\n",
      " 27  V27     284807 non-null  float64\n",
      " 28  V28     284807 non-null  float64\n",
      " 29  Amount  284807 non-null  float64\n",
      " 30  Class   284807 non-null  int64  \n",
      "dtypes: float64(30), int64(1)\n",
      "memory usage: 67.4 MB\n"
     ]
    }
   ],
   "source": [
    "cardData.info()"
   ]
  },
  {
   "cell_type": "code",
   "execution_count": 5,
   "id": "b1a7c2e0",
   "metadata": {},
   "outputs": [
    {
     "name": "stdout",
     "output_type": "stream",
     "text": [
      "Minimum Value: 0.0\n",
      "Mean Value: 88.34961925087359\n",
      "Maximum Value: 25691.16\n",
      "0         149.62\n",
      "1           2.69\n",
      "2         378.66\n",
      "3         123.50\n",
      "4          69.99\n",
      "           ...  \n",
      "284802      0.77\n",
      "284803     24.79\n",
      "284804     67.88\n",
      "284805     10.00\n",
      "284806    217.00\n",
      "Name: Amount, Length: 284807, dtype: float64\n"
     ]
    }
   ],
   "source": [
    "print(f'Minimum Value: {min(cardData.Amount)}')\n",
    "print(f'Mean Value: ' \\\n",
    "      f'{sum(cardData.Amount)/total_transactions}')\n",
    "print(f'Maximum Value: {max(cardData.Amount)}')\n",
    "print(cardData['Amount'])"
   ]
  },
  {
   "cell_type": "code",
   "execution_count": 6,
   "id": "48b816df",
   "metadata": {},
   "outputs": [
    {
     "name": "stdout",
     "output_type": "stream",
     "text": [
      "(284807, 30)\n"
     ]
    }
   ],
   "source": [
    "cardData.drop(['Time'], axis=1, inplace=True)\n",
    "print(cardData.shape)"
   ]
  },
  {
   "cell_type": "code",
   "execution_count": 7,
   "id": "19471bb4",
   "metadata": {},
   "outputs": [
    {
     "name": "stdout",
     "output_type": "stream",
     "text": [
      "              V1        V2        V3        V4        V5        V6        V7  \\\n",
      "0       0.935192  0.766490  0.881365  0.313023  0.763439  0.267669  0.266815   \n",
      "1       0.978542  0.770067  0.840298  0.271796  0.766120  0.262192  0.264875   \n",
      "2       0.935217  0.753118  0.868141  0.268766  0.762329  0.281122  0.270177   \n",
      "3       0.941878  0.765304  0.868484  0.213661  0.765647  0.275559  0.266803   \n",
      "4       0.938617  0.776520  0.864251  0.269796  0.762975  0.263984  0.268968   \n",
      "...          ...       ...       ...       ...       ...       ...       ...   \n",
      "284802  0.756448  0.873531  0.666991  0.160317  0.729603  0.236810  0.235393   \n",
      "284803  0.945845  0.766677  0.872678  0.219189  0.771561  0.273661  0.265504   \n",
      "284804  0.990905  0.764080  0.781102  0.227202  0.783425  0.293496  0.263547   \n",
      "284805  0.954209  0.772856  0.849587  0.282508  0.763172  0.269291  0.261175   \n",
      "284806  0.949232  0.765256  0.849601  0.229488  0.765632  0.256488  0.274963   \n",
      "\n",
      "              V8        V9       V10  ...       V21       V22       V23  \\\n",
      "0       0.786444  0.475312  0.510600  ...  0.561184  0.522992  0.663793   \n",
      "1       0.786298  0.453981  0.505267  ...  0.557840  0.480237  0.666938   \n",
      "2       0.788042  0.410603  0.513018  ...  0.565477  0.546030  0.678939   \n",
      "3       0.789434  0.414999  0.507585  ...  0.559734  0.510277  0.662607   \n",
      "4       0.782484  0.490950  0.524303  ...  0.561327  0.547271  0.663392   \n",
      "...          ...       ...       ...  ...       ...       ...       ...   \n",
      "284802  0.863749  0.528729  0.598850  ...  0.564920  0.515249  0.680500   \n",
      "284803  0.788548  0.482925  0.488530  ...  0.564933  0.553153  0.665619   \n",
      "284804  0.792985  0.477677  0.498692  ...  0.565220  0.537005  0.664877   \n",
      "284805  0.792671  0.476287  0.500464  ...  0.565755  0.547353  0.663008   \n",
      "284806  0.780938  0.479528  0.489782  ...  0.565688  0.540031  0.671029   \n",
      "\n",
      "             V24       V25       V26       V27       V28    Amount  Class  \n",
      "0       0.391253  0.585122  0.394557  0.418976  0.312697  0.005824    0.0  \n",
      "1       0.336440  0.587290  0.446013  0.416345  0.313423  0.000105    0.0  \n",
      "2       0.289354  0.559515  0.402727  0.415489  0.311911  0.014739    0.0  \n",
      "3       0.223826  0.614245  0.389197  0.417669  0.314371  0.004807    0.0  \n",
      "4       0.401270  0.566343  0.507497  0.420561  0.317490  0.002724    0.0  \n",
      "...          ...       ...       ...       ...       ...       ...    ...  \n",
      "284802  0.313600  0.658558  0.466291  0.433929  0.329840  0.000030    0.0  \n",
      "284803  0.245298  0.543855  0.360884  0.417775  0.312038  0.000965    0.0  \n",
      "284804  0.468492  0.592824  0.411177  0.416593  0.312585  0.002642    0.0  \n",
      "284805  0.398836  0.545958  0.514746  0.418520  0.315245  0.000389    0.0  \n",
      "284806  0.383420  0.551319  0.291786  0.416466  0.313401  0.008446    0.0  \n",
      "\n",
      "[284807 rows x 30 columns]\n"
     ]
    }
   ],
   "source": [
    "scaler = MinMaxScaler(feature_range=(0,1))\n",
    "col = cardData.columns\n",
    "cardData = pd.DataFrame(\n",
    "    scaler.fit_transform(cardData), \n",
    "    columns = col)\n",
    "print(cardData)"
   ]
  },
  {
   "cell_type": "code",
   "execution_count": 8,
   "id": "69509f88",
   "metadata": {},
   "outputs": [
    {
     "name": "stdout",
     "output_type": "stream",
     "text": [
      "(275663, 30)\n"
     ]
    }
   ],
   "source": [
    "cardData.drop_duplicates(inplace=True)\n",
    "print(cardData.shape)"
   ]
  },
  {
   "cell_type": "code",
   "execution_count": 9,
   "id": "9b893515",
   "metadata": {},
   "outputs": [
    {
     "name": "stdout",
     "output_type": "stream",
     "text": [
      "Minimum Value: 0.0\n",
      "Mean Value: 0.00341246851336739\n",
      "Maximum Value: 1.0\n",
      "0         0.005824\n",
      "1         0.000105\n",
      "2         0.014739\n",
      "3         0.004807\n",
      "4         0.002724\n",
      "            ...   \n",
      "284802    0.000030\n",
      "284803    0.000965\n",
      "284804    0.002642\n",
      "284805    0.000389\n",
      "284806    0.008446\n",
      "Name: Amount, Length: 275663, dtype: float64\n"
     ]
    }
   ],
   "source": [
    "print(f'Minimum Value: {min(cardData.Amount)}')\n",
    "print(f'Mean Value: ' \\\n",
    "      f'{sum(cardData.Amount)/total_transactions}')\n",
    "print(f'Maximum Value: {max(cardData.Amount)}')\n",
    "print(cardData['Amount'])"
   ]
  },
  {
   "cell_type": "markdown",
   "id": "0907d81b",
   "metadata": {},
   "source": [
    "## Splitting the data into train and test sets"
   ]
  },
  {
   "cell_type": "code",
   "execution_count": 10,
   "id": "32935f8d",
   "metadata": {},
   "outputs": [],
   "source": [
    "from sklearn.model_selection \\\n",
    "    import train_test_split"
   ]
  },
  {
   "cell_type": "code",
   "execution_count": 11,
   "id": "906a175b",
   "metadata": {},
   "outputs": [
    {
     "name": "stdout",
     "output_type": "stream",
     "text": [
      "[[9.35192337e-01 7.66490419e-01 8.81364903e-01 ... 4.18976135e-01\n",
      "  3.12696634e-01 5.82379309e-03]\n",
      " [9.78541955e-01 7.70066651e-01 8.40298490e-01 ... 4.16345145e-01\n",
      "  3.13422663e-01 1.04705276e-04]\n",
      " [9.35217023e-01 7.53117667e-01 8.68140819e-01 ... 4.15489266e-01\n",
      "  3.11911316e-01 1.47389219e-02]\n",
      " ...\n",
      " [9.90904812e-01 7.64079694e-01 7.81101998e-01 ... 4.16593177e-01\n",
      "  3.12584864e-01 2.64215395e-03]\n",
      " [9.54208999e-01 7.72855742e-01 8.49587129e-01 ... 4.18519535e-01\n",
      "  3.15245157e-01 3.89238944e-04]\n",
      " [9.49231759e-01 7.65256401e-01 8.49601462e-01 ... 4.16466371e-01\n",
      "  3.13400843e-01 8.44648509e-03]]\n",
      "[0. 0. 0. ... 0. 0. 0.]\n"
     ]
    }
   ],
   "source": [
    "X = cardData.drop('Class', axis=1).values\n",
    "y = cardData['Class'].values\n",
    "print(X)\n",
    "print(y)"
   ]
  },
  {
   "cell_type": "code",
   "execution_count": 12,
   "id": "66614dfe",
   "metadata": {},
   "outputs": [
    {
     "name": "stdout",
     "output_type": "stream",
     "text": [
      "X training data size: (220530, 29)\n",
      "X testing data size: (55133, 29)\n",
      "y training data size: (220530,)\n",
      "y testing data size: (55133,)\n"
     ]
    }
   ],
   "source": [
    "X_train, X_test, y_train, y_test = \\\n",
    "    train_test_split(X, y, test_size=0.2, random_state=1)\n",
    "print(f\"X training data size: {X_train.shape}\")\n",
    "print(f\"X testing data size: {X_test.shape}\")\n",
    "print(f\"y training data size: {y_train.shape}\")\n",
    "print(f\"y testing data size: {y_test.shape}\")"
   ]
  },
  {
   "cell_type": "markdown",
   "id": "882ac7f6",
   "metadata": {},
   "source": [
    "## Building the model"
   ]
  },
  {
   "cell_type": "code",
   "execution_count": 13,
   "id": "3c3eaef5",
   "metadata": {},
   "outputs": [],
   "source": [
    "from sklearn.tree import DecisionTreeClassifier"
   ]
  },
  {
   "cell_type": "code",
   "execution_count": 14,
   "id": "20c299d9",
   "metadata": {},
   "outputs": [
    {
     "data": {
      "text/html": [
       "<style>#sk-container-id-1 {color: black;background-color: white;}#sk-container-id-1 pre{padding: 0;}#sk-container-id-1 div.sk-toggleable {background-color: white;}#sk-container-id-1 label.sk-toggleable__label {cursor: pointer;display: block;width: 100%;margin-bottom: 0;padding: 0.3em;box-sizing: border-box;text-align: center;}#sk-container-id-1 label.sk-toggleable__label-arrow:before {content: \"▸\";float: left;margin-right: 0.25em;color: #696969;}#sk-container-id-1 label.sk-toggleable__label-arrow:hover:before {color: black;}#sk-container-id-1 div.sk-estimator:hover label.sk-toggleable__label-arrow:before {color: black;}#sk-container-id-1 div.sk-toggleable__content {max-height: 0;max-width: 0;overflow: hidden;text-align: left;background-color: #f0f8ff;}#sk-container-id-1 div.sk-toggleable__content pre {margin: 0.2em;color: black;border-radius: 0.25em;background-color: #f0f8ff;}#sk-container-id-1 input.sk-toggleable__control:checked~div.sk-toggleable__content {max-height: 200px;max-width: 100%;overflow: auto;}#sk-container-id-1 input.sk-toggleable__control:checked~label.sk-toggleable__label-arrow:before {content: \"▾\";}#sk-container-id-1 div.sk-estimator input.sk-toggleable__control:checked~label.sk-toggleable__label {background-color: #d4ebff;}#sk-container-id-1 div.sk-label input.sk-toggleable__control:checked~label.sk-toggleable__label {background-color: #d4ebff;}#sk-container-id-1 input.sk-hidden--visually {border: 0;clip: rect(1px 1px 1px 1px);clip: rect(1px, 1px, 1px, 1px);height: 1px;margin: -1px;overflow: hidden;padding: 0;position: absolute;width: 1px;}#sk-container-id-1 div.sk-estimator {font-family: monospace;background-color: #f0f8ff;border: 1px dotted black;border-radius: 0.25em;box-sizing: border-box;margin-bottom: 0.5em;}#sk-container-id-1 div.sk-estimator:hover {background-color: #d4ebff;}#sk-container-id-1 div.sk-parallel-item::after {content: \"\";width: 100%;border-bottom: 1px solid gray;flex-grow: 1;}#sk-container-id-1 div.sk-label:hover label.sk-toggleable__label {background-color: #d4ebff;}#sk-container-id-1 div.sk-serial::before {content: \"\";position: absolute;border-left: 1px solid gray;box-sizing: border-box;top: 0;bottom: 0;left: 50%;z-index: 0;}#sk-container-id-1 div.sk-serial {display: flex;flex-direction: column;align-items: center;background-color: white;padding-right: 0.2em;padding-left: 0.2em;position: relative;}#sk-container-id-1 div.sk-item {position: relative;z-index: 1;}#sk-container-id-1 div.sk-parallel {display: flex;align-items: stretch;justify-content: center;background-color: white;position: relative;}#sk-container-id-1 div.sk-item::before, #sk-container-id-1 div.sk-parallel-item::before {content: \"\";position: absolute;border-left: 1px solid gray;box-sizing: border-box;top: 0;bottom: 0;left: 50%;z-index: -1;}#sk-container-id-1 div.sk-parallel-item {display: flex;flex-direction: column;z-index: 1;position: relative;background-color: white;}#sk-container-id-1 div.sk-parallel-item:first-child::after {align-self: flex-end;width: 50%;}#sk-container-id-1 div.sk-parallel-item:last-child::after {align-self: flex-start;width: 50%;}#sk-container-id-1 div.sk-parallel-item:only-child::after {width: 0;}#sk-container-id-1 div.sk-dashed-wrapped {border: 1px dashed gray;margin: 0 0.4em 0.5em 0.4em;box-sizing: border-box;padding-bottom: 0.4em;background-color: white;}#sk-container-id-1 div.sk-label label {font-family: monospace;font-weight: bold;display: inline-block;line-height: 1.2em;}#sk-container-id-1 div.sk-label-container {text-align: center;}#sk-container-id-1 div.sk-container {/* jupyter's `normalize.less` sets `[hidden] { display: none; }` but bootstrap.min.css set `[hidden] { display: none !important; }` so we also need the `!important` here to be able to override the default hidden behavior on the sphinx rendered scikit-learn.org. See: https://github.com/scikit-learn/scikit-learn/issues/21755 */display: inline-block !important;position: relative;}#sk-container-id-1 div.sk-text-repr-fallback {display: none;}</style><div id=\"sk-container-id-1\" class=\"sk-top-container\"><div class=\"sk-text-repr-fallback\"><pre>DecisionTreeClassifier(max_depth=5)</pre><b>In a Jupyter environment, please rerun this cell to show the HTML representation or trust the notebook. <br />On GitHub, the HTML representation is unable to render, please try loading this page with nbviewer.org.</b></div><div class=\"sk-container\" hidden><div class=\"sk-item\"><div class=\"sk-estimator sk-toggleable\"><input class=\"sk-toggleable__control sk-hidden--visually\" id=\"sk-estimator-id-1\" type=\"checkbox\" checked><label for=\"sk-estimator-id-1\" class=\"sk-toggleable__label sk-toggleable__label-arrow\">DecisionTreeClassifier</label><div class=\"sk-toggleable__content\"><pre>DecisionTreeClassifier(max_depth=5)</pre></div></div></div></div></div>"
      ],
      "text/plain": [
       "DecisionTreeClassifier(max_depth=5)"
      ]
     },
     "execution_count": 14,
     "metadata": {},
     "output_type": "execute_result"
    }
   ],
   "source": [
    "dtc = DecisionTreeClassifier(max_depth = 5)\n",
    "dtc.fit(X_train, y_train)"
   ]
  },
  {
   "cell_type": "markdown",
   "id": "2d6fc027",
   "metadata": {},
   "source": [
    "## Performing the analysis"
   ]
  },
  {
   "cell_type": "code",
   "execution_count": 15,
   "id": "e575f52d",
   "metadata": {},
   "outputs": [],
   "source": [
    "from sklearn.metrics import accuracy_score\n",
    "from sklearn.metrics import confusion_matrix\n",
    "from sklearn.metrics import plot_confusion_matrix\n",
    "import matplotlib.pyplot as plt"
   ]
  },
  {
   "cell_type": "code",
   "execution_count": 16,
   "id": "3c527935",
   "metadata": {},
   "outputs": [],
   "source": [
    "# Remove the deprecated warning message for plot_confusion_matrix().\n",
    "import warnings\n",
    "warnings.filterwarnings(\"ignore\")"
   ]
  },
  {
   "cell_type": "code",
   "execution_count": 17,
   "id": "1caacc94",
   "metadata": {},
   "outputs": [
    {
     "name": "stdout",
     "output_type": "stream",
     "text": [
      "Accuracy score: 0.9993651714943863\n"
     ]
    }
   ],
   "source": [
    "dtc_yHat = dtc.predict(X_test)\n",
    "print(f\"Accuracy score: \" \\\n",
    "      f\"{accuracy_score(y_test, dtc_yHat)}\")"
   ]
  },
  {
   "cell_type": "code",
   "execution_count": 18,
   "id": "94fdbb94",
   "metadata": {},
   "outputs": [
    {
     "name": "stdout",
     "output_type": "stream",
     "text": [
      "[[55025     6]\n",
      " [   29    73]]\n"
     ]
    }
   ],
   "source": [
    "print(confusion_matrix(y_test, \n",
    "                       dtc_yHat, \n",
    "                       labels=[0, 1]))"
   ]
  },
  {
   "cell_type": "code",
   "execution_count": 19,
   "id": "c212a5bb",
   "metadata": {},
   "outputs": [
    {
     "data": {
      "image/png": "[encoded data removed]",
      "text/plain": [
       "<Figure size 432x288 with 2 Axes>"
      ]
     },
     "metadata": {
      "needs_background": "light"
     },
     "output_type": "display_data"
    }
   ],
   "source": [
    "matrix = plot_confusion_matrix(dtc,\n",
    "                               X=X_test,\n",
    "                               y_true=y_test,\n",
    "                               cmap=plt.cm.Blues)\n",
    "plt.title('Confusion Matrix for Fraud Detection')\n",
    "plt.show(matrix)\n",
    "plt.show()"
   ]
  },
  {
   "cell_type": "markdown",
   "id": "735f683c",
   "metadata": {},
   "source": [
    "## Checking another model"
   ]
  },
  {
   "cell_type": "code",
   "execution_count": 20,
   "id": "51f548c2",
   "metadata": {},
   "outputs": [],
   "source": [
    "from sklearn.naive_bayes import MultinomialNB\n",
    "from sklearn.neighbors import KNeighborsClassifier"
   ]
  },
  {
   "cell_type": "code",
   "execution_count": 21,
   "id": "e54bd831",
   "metadata": {},
   "outputs": [
    {
     "name": "stdout",
     "output_type": "stream",
     "text": [
      "Accuracy score: 0.9981499283550687\n"
     ]
    }
   ],
   "source": [
    "mnb = MultinomialNB()\n",
    "mnb.fit(X_train, y_train)\n",
    "mnb_yHat = mnb.predict(X_test)\n",
    "print(f\"Accuracy score: \" \\\n",
    "      f\"{accuracy_score(y_test, mnb_yHat)}\")"
   ]
  },
  {
   "cell_type": "code",
   "execution_count": 22,
   "id": "b627f991",
   "metadata": {},
   "outputs": [
    {
     "data": {
      "image/png": "[encoded data removed]",
      "text/plain": [
       "<Figure size 432x288 with 2 Axes>"
      ]
     },
     "metadata": {
      "needs_background": "light"
     },
     "output_type": "display_data"
    }
   ],
   "source": [
    "matrix = plot_confusion_matrix(mnb,\n",
    "                               X=X_test,\n",
    "                               y_true=y_test,\n",
    "                               cmap=plt.cm.Blues)\n",
    "plt.title('Confusion Matrix for Fraud Detection')\n",
    "plt.show(matrix)\n",
    "plt.show()"
   ]
  },
  {
   "cell_type": "code",
   "execution_count": 23,
   "id": "73e0a9e6",
   "metadata": {},
   "outputs": [
    {
     "name": "stdout",
     "output_type": "stream",
     "text": [
      "Accuracy score: '       f'0.99927448170787\n"
     ]
    }
   ],
   "source": [
    "knn = KNeighborsClassifier(n_neighbors = 7)\n",
    "knn.fit(X_train, y_train)\n",
    "knn_yHat = knn.predict(X_test)\n",
    "print(f\"Accuracy score: ' \\\n",
    "      f'{accuracy_score(y_test, knn_yHat)}\")"
   ]
  },
  {
   "cell_type": "code",
   "execution_count": 24,
   "id": "fe264444",
   "metadata": {},
   "outputs": [
    {
     "data": {
      "image/png": "[encoded data removed]",
      "text/plain": [
       "<Figure size 432x288 with 2 Axes>"
      ]
     },
     "metadata": {
      "needs_background": "light"
     },
     "output_type": "display_data"
    }
   ],
   "source": [
    "matrix = plot_confusion_matrix(knn,\n",
    "                               X=X_test,\n",
    "                               y_true=y_test,\n",
    "                               cmap=plt.cm.Blues)\n",
    "plt.title('Confusion Matrix for Fraud Detection')\n",
    "plt.show(matrix)\n",
    "plt.show()"
   ]
  },
  {
   "cell_type": "markdown",
   "id": "fae9c77f",
   "metadata": {},
   "source": [
    "## Creating a ROC curve"
   ]
  },
  {
   "cell_type": "code",
   "execution_count": 25,
   "id": "98bde295",
   "metadata": {},
   "outputs": [],
   "source": [
    "from sklearn.metrics import roc_curve\n",
    "from sklearn.metrics import auc\n",
    "from numpy import argmax\n",
    "from numpy import sqrt"
   ]
  },
  {
   "cell_type": "code",
   "execution_count": 26,
   "id": "b0242a57",
   "metadata": {},
   "outputs": [],
   "source": [
    "dtc_y_scores = dtc.predict_proba(X_test)\n",
    "dtc_fpr, dtc_tpr, dtc_thresholds = \\\n",
    "    roc_curve(y_test, dtc_y_scores[:, 1])\n",
    "dtc_roc_auc = auc(dtc_fpr, dtc_tpr)"
   ]
  },
  {
   "cell_type": "code",
   "execution_count": 27,
   "id": "e907f62a",
   "metadata": {},
   "outputs": [],
   "source": [
    "knn_y_scores = knn.predict_proba(X_test)\n",
    "knn_fpr, knn_tpr, knn_thresholds = \\\n",
    "    roc_curve(y_test, knn_y_scores[:, 1])\n",
    "knn_roc_auc = auc(knn_fpr, knn_tpr)"
   ]
  },
  {
   "cell_type": "code",
   "execution_count": 28,
   "id": "39d7751d",
   "metadata": {},
   "outputs": [
    {
     "name": "stdout",
     "output_type": "stream",
     "text": [
      "Best DTC Threshold=0.062500, G-Mean=0.885\n",
      "Best kNN Threshold=0.142857, G-Mean=0.907\n"
     ]
    }
   ],
   "source": [
    "dtc_gmeans = sqrt(dtc_tpr * (1-dtc_fpr))\n",
    "dtc_ix = argmax(dtc_gmeans)\n",
    "print('Best DTC Threshold=%f, G-Mean=%.3f'\n",
    "      % (dtc_thresholds[dtc_ix], dtc_gmeans[dtc_ix]))\n",
    "\n",
    "knn_gmeans = sqrt(knn_tpr * (1-knn_fpr))\n",
    "knn_ix = argmax(knn_gmeans)\n",
    "print('Best kNN Threshold=%f, G-Mean=%.3f'\n",
    "      % (knn_thresholds[knn_ix], knn_gmeans[knn_ix]))"
   ]
  },
  {
   "cell_type": "code",
   "execution_count": 29,
   "id": "f2c1cc91",
   "metadata": {},
   "outputs": [
    {
     "data": {
      "image/png": "[encoded data removed]",
      "text/plain": [
       "<Figure size 432x288 with 1 Axes>"
      ]
     },
     "metadata": {
      "needs_background": "light"
     },
     "output_type": "display_data"
    }
   ],
   "source": [
    "plt.title('Receiver Operating Characteristic')\n",
    "plt.plot(dtc_fpr, dtc_tpr, 'g', \n",
    "         label = 'DTC AUC = %0.2f' % dtc_roc_auc)\n",
    "plt.plot(knn_fpr, knn_tpr, 'b', \n",
    "         label = 'kNN AUC = %0.2f' % knn_roc_auc)\n",
    "plt.plot([0, 1], [0, 1],'r--',\n",
    "         label = 'No Skill')\n",
    "plt.scatter(dtc_fpr[dtc_ix], dtc_tpr[dtc_ix], \n",
    "            marker='o', color='g', \n",
    "            label='DTC Best')\n",
    "plt.scatter(knn_fpr[knn_ix], knn_tpr[knn_ix], \n",
    "            marker='o', color='b', \n",
    "            label='kNN Best')\n",
    "plt.legend(loc = 'lower right')\n",
    "plt.xlim([0, 1])\n",
    "plt.ylim([0, 1])\n",
    "plt.ylabel('True Positive Rate')\n",
    "plt.xlabel('False Positive Rate')\n",
    "plt.title('ROC Curve Comparison DTC to kNN')\n",
    "plt.show()"
   ]
  },
  {
   "cell_type": "code",
   "execution_count": null,
   "id": "4796ed58",
   "metadata": {},
   "outputs": [],
   "source": []
  }
 ],
 "metadata": {
  "kernelspec": {
   "display_name": "Python 3 (ipykernel)",
   "language": "python",
   "name": "python3"
  },
  "language_info": {
   "codemirror_mode": {
    "name": "ipython",
    "version": 3
   },
   "file_extension": ".py",
   "mimetype": "text/x-python",
   "name": "python",
   "nbconvert_exporter": "python",
   "pygments_lexer": "ipython3",
   "version": "3.8.13"
  }
 },
 "nbformat": 4,
 "nbformat_minor": 5
}
